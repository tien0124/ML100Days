{
 "cells": [
  {
   "cell_type": "code",
   "execution_count": 1,
   "metadata": {},
   "outputs": [],
   "source": [
    "import numpy as np"
   ]
  },
  {
   "cell_type": "code",
   "execution_count": 41,
   "metadata": {},
   "outputs": [],
   "source": [
    "E = np.array([55,89,76,65,48,70])\n",
    "M = np.array([60,85,60,68,np.nan,60])\n",
    "C = np.array([65,90,82,72,66,77])"
   ]
  },
  {
   "cell_type": "code",
   "execution_count": 42,
   "metadata": {},
   "outputs": [
    {
     "name": "stdout",
     "output_type": "stream",
     "text": [
      "89\n",
      "85.0\n",
      "90\n"
     ]
    }
   ],
   "source": [
    "print(np.nanmax(E))\n",
    "print(np.nanmax(M))\n",
    "print(np.nanmax(C))"
   ]
  },
  {
   "cell_type": "code",
   "execution_count": 43,
   "metadata": {},
   "outputs": [
    {
     "name": "stdout",
     "output_type": "stream",
     "text": [
      "48\n",
      "60.0\n",
      "65\n"
     ]
    }
   ],
   "source": [
    "print(np.nanmin(E))\n",
    "print(np.nanmin(M))\n",
    "print(np.nanmin(C))"
   ]
  },
  {
   "cell_type": "code",
   "execution_count": 44,
   "metadata": {},
   "outputs": [
    {
     "name": "stdout",
     "output_type": "stream",
     "text": [
      "67.16666666666667\n",
      "66.6\n",
      "75.33333333333333\n"
     ]
    }
   ],
   "source": [
    "print(np.nanmean(E))\n",
    "print(np.nanmean(M))\n",
    "print(np.nanmean(C))"
   ]
  },
  {
   "cell_type": "code",
   "execution_count": 45,
   "metadata": {},
   "outputs": [
    {
     "name": "stdout",
     "output_type": "stream",
     "text": [
      "13.433995020924426\n",
      "9.707728879609279\n",
      "8.825468196582484\n"
     ]
    }
   ],
   "source": [
    "print(np.nanstd(E))\n",
    "print(np.nanstd(M))\n",
    "print(np.nanstd(C))"
   ]
  },
  {
   "cell_type": "code",
   "execution_count": 46,
   "metadata": {},
   "outputs": [
    {
     "name": "stdout",
     "output_type": "stream",
     "text": [
      "64.66666666666667\n",
      "85.0\n",
      "55.0\n",
      "9.860132971832694\n"
     ]
    }
   ],
   "source": [
    "M[4]=55\n",
    "print(np.nanmean(M))\n",
    "print(np.nanmax(M))\n",
    "print(np.nanmin(M))\n",
    "print(np.nanstd(M))"
   ]
  },
  {
   "cell_type": "code",
   "execution_count": 49,
   "metadata": {},
   "outputs": [
    {
     "data": {
      "text/plain": [
       "array([[1.        , 0.7855563 , 0.97792828],\n",
       "       [0.7855563 , 1.        , 0.74056803],\n",
       "       [0.97792828, 0.74056803, 1.        ]])"
      ]
     },
     "execution_count": 49,
     "metadata": {},
     "output_type": "execute_result"
    }
   ],
   "source": [
    "np.corrcoef([E,M,C])"
   ]
  },
  {
   "cell_type": "code",
   "execution_count": null,
   "metadata": {},
   "outputs": [],
   "source": []
  }
 ],
 "metadata": {
  "kernelspec": {
   "display_name": "Python 3",
   "language": "python",
   "name": "python3"
  },
  "language_info": {
   "codemirror_mode": {
    "name": "ipython",
    "version": 3
   },
   "file_extension": ".py",
   "mimetype": "text/x-python",
   "name": "python",
   "nbconvert_exporter": "python",
   "pygments_lexer": "ipython3",
   "version": "3.8.5"
  }
 },
 "nbformat": 4,
 "nbformat_minor": 4
}
